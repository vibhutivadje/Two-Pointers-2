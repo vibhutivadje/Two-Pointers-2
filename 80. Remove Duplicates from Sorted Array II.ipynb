{
 "cells": [
  {
   "cell_type": "markdown",
   "metadata": {},
   "source": [
    "Given a sorted array nums, remove the duplicates in-place such that duplicates appeared at most twice \n",
    "and return the new length.\n",
    "\n",
    "Do not allocate extra space for another array, you must do this by modifying the input array in-place with O(1) \n",
    "extra memory.\n",
    "\n",
    "Given nums = [0,0,1,1,1,1,2,3,3],\n",
    "\n",
    "Your function should return length = 7, with the first seven elements of nums being modified to 0, 0, 1, 1, 2, 3 and 3 respectively.\n",
    "\n",
    "It doesn't matter what values are set beyond the returned length."
   ]
  },
  {
   "cell_type": "markdown",
   "metadata": {},
   "source": [
    "# Problem: \n",
    "https://leetcode.com/problems/remove-duplicates-from-sorted-array-ii/"
   ]
  },
  {
   "cell_type": "code",
   "execution_count": 11,
   "metadata": {},
   "outputs": [
    {
     "data": {
      "text/plain": [
       "[0, 0, 1, 1, 2, 3, 3]"
      ]
     },
     "execution_count": 11,
     "metadata": {},
     "output_type": "execute_result"
    }
   ],
   "source": [
    "class Solution:\n",
    "    def removeDuplicates(self, nums):\n",
    "        p2 = 1 \n",
    "        count = 1\n",
    "\n",
    "        for p1 in range(1, len(nums)):\n",
    "            if nums[p1-1] == nums[p1]:\n",
    "                count += 1\n",
    "            else:\n",
    "                #reset count\n",
    "                count = 1\n",
    "\n",
    "            if count<= 2:\n",
    "                nums[p2]=nums[p1]\n",
    "                p2+=1\n",
    "\n",
    "        #return p2\n",
    "        return nums[:p2]\n",
    "obj = Solution()\n",
    "\n",
    "obj.removeDuplicates(nums = [0,0,1,1,1,1,2,3,3])\n",
    "#timecomplexity: O(n)\n",
    "#Spacecomplexity: O(1)"
   ]
  },
  {
   "cell_type": "code",
   "execution_count": null,
   "metadata": {},
   "outputs": [],
   "source": []
  }
 ],
 "metadata": {
  "kernelspec": {
   "display_name": "Python 3",
   "language": "python",
   "name": "python3"
  },
  "language_info": {
   "codemirror_mode": {
    "name": "ipython",
    "version": 3
   },
   "file_extension": ".py",
   "mimetype": "text/x-python",
   "name": "python",
   "nbconvert_exporter": "python",
   "pygments_lexer": "ipython3",
   "version": "3.7.7"
  }
 },
 "nbformat": 4,
 "nbformat_minor": 4
}
