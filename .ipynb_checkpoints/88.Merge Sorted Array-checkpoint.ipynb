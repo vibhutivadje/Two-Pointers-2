{
 "cells": [
  {
   "cell_type": "markdown",
   "metadata": {},
   "source": [
    "Given two sorted integer arrays nums1 and nums2, merge nums2 into nums1 as one sorted array.\n",
    "\n",
    "Note:\n",
    "\n",
    "The number of elements initialized in nums1 and nums2 are m and n respectively.\n",
    "You may assume that nums1 has enough space (size that is equal to m + n) to hold additional elements from nums2."
   ]
  },
  {
   "cell_type": "markdown",
   "metadata": {},
   "source": [
    "Input:\n",
    "nums1 = [1,2,3,0,0,0], m = 3\n",
    "nums2 = [2,5,6],       n = 3\n",
    "\n",
    "Output: [1,2,2,3,5,6]"
   ]
  },
  {
   "cell_type": "markdown",
   "metadata": {},
   "source": [
    "# Solution1:"
   ]
  },
  {
   "cell_type": "code",
   "execution_count": 2,
   "metadata": {},
   "outputs": [
    {
     "data": {
      "text/plain": [
       "[1, 2, 3, 5, 6, 7]"
      ]
     },
     "execution_count": 2,
     "metadata": {},
     "output_type": "execute_result"
    }
   ],
   "source": [
    "def mergesortedarrays(nums1, nums2, m, n):\n",
    "    \n",
    "    if not nums1 or not nums2:\n",
    "        return -1\n",
    "    \n",
    "    final_indx = m + n - 1 \n",
    "    r1 = m-1\n",
    "    r2 = n-1\n",
    "    \n",
    "    #as the arrays are sorted we will replace elements in the reverse order.\n",
    "    \n",
    "    while r1>=0 and r2>=0: #filling from backward that why check r1, r2 >= 0 else length(arrays)-1\n",
    "        if(nums1[r1]>= nums2[r2]):\n",
    "            nums1[final_indx] = nums1[r1]\n",
    "            r1-=1\n",
    "        else:\n",
    "            nums1[final_indx] = nums2[r2]\n",
    "            r2-=1\n",
    "        final_indx -= 1\n",
    "    \n",
    "    #the below code is to check if any elemts are remaining in array 2: eg test case 2 \n",
    "    if r2>=0:\n",
    "        nums1[0:final_indx+1] = nums2[0:r2+1] #copy the rest element of array\n",
    "        \n",
    "    return nums1\n",
    "    \n",
    "#mergesortedarrays(nums1 = [1,2,3,0,0,0], nums2=[2,5,6], m=3, n=3)\n",
    "mergesortedarrays(nums1=[5,6,7,0,0,0], m =3, nums2=[1,2,3], n = 3)\n",
    "#timecomplexity: O(m+n) as we traverse through two arrays\n",
    "#spacecomplexity: O(1)"
   ]
  },
  {
   "cell_type": "markdown",
   "metadata": {},
   "source": [
    "# Solution2 : Class approach"
   ]
  },
  {
   "cell_type": "code",
   "execution_count": 2,
   "metadata": {},
   "outputs": [
    {
     "data": {
      "text/plain": [
       "[1, 2, 2, 3, 5, 6]"
      ]
     },
     "execution_count": 2,
     "metadata": {},
     "output_type": "execute_result"
    }
   ],
   "source": [
    "class Solution:\n",
    "    def merge(self, nums1, nums2, m, n):\n",
    "    \n",
    "        if not nums1 or not nums2:\n",
    "            return -1\n",
    "\n",
    "        final_indx = m + n - 1 \n",
    "        r1 = m-1\n",
    "        r2 = n-1\n",
    "\n",
    "        #as the arrays are sorted we will replace elements in the reverse order.\n",
    "\n",
    "        while r1>=0 and r2>=0:\n",
    "            if(nums1[r1]>= nums2[r2]):\n",
    "                nums1[final_indx] = nums1[r1]\n",
    "                r1-=1\n",
    "            else:\n",
    "                nums1[final_indx] = nums2[r2]\n",
    "                r2-=1\n",
    "            final_indx -= 1\n",
    "\n",
    "        #if few elements are remaining in array2\n",
    "        while r2>=0:\n",
    "            num1s[final_indx+1] = nums2[r2] #copy the rest element of array\n",
    "            r2-=1\n",
    "            final_indx -=1\n",
    "\n",
    "        return nums1\n",
    "\n",
    "obj = Solution()\n",
    "obj.merge(nums1 = [1,2,3,0,0,0], nums2=[2,5,6], m=3, n=3)"
   ]
  },
  {
   "cell_type": "code",
   "execution_count": null,
   "metadata": {},
   "outputs": [],
   "source": []
  }
 ],
 "metadata": {
  "kernelspec": {
   "display_name": "Python 3",
   "language": "python",
   "name": "python3"
  },
  "language_info": {
   "codemirror_mode": {
    "name": "ipython",
    "version": 3
   },
   "file_extension": ".py",
   "mimetype": "text/x-python",
   "name": "python",
   "nbconvert_exporter": "python",
   "pygments_lexer": "ipython3",
   "version": "3.7.7"
  }
 },
 "nbformat": 4,
 "nbformat_minor": 4
}
